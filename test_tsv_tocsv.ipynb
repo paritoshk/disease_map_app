{
 "cells": [
  {
   "cell_type": "code",
   "execution_count": 1,
   "metadata": {
    "collapsed": true
   },
   "outputs": [],
   "source": [
    "import pandas as pd"
   ]
  },
  {
   "cell_type": "code",
   "execution_count": 23,
   "metadata": {
    "collapsed": false
   },
   "outputs": [],
   "source": [
    "edges = pd.read_csv('data/hetionet-v1.0-edges.tsv', sep='\\t', header=0)"
   ]
  },
  {
   "cell_type": "code",
   "execution_count": 24,
   "metadata": {
    "collapsed": false
   },
   "outputs": [],
   "source": [
    "nodes = pd.read_csv('data/hetionet-v1.0-nodes.tsv.tsv', sep='\\t', header=0)"
   ]
  },
  {
   "cell_type": "code",
   "execution_count": 4,
   "metadata": {
    "collapsed": false
   },
   "outputs": [
    {
     "data": {
      "text/html": [
       "<div>\n",
       "<style scoped>\n",
       "    .dataframe tbody tr th:only-of-type {\n",
       "        vertical-align: middle;\n",
       "    }\n",
       "\n",
       "    .dataframe tbody tr th {\n",
       "        vertical-align: top;\n",
       "    }\n",
       "\n",
       "    .dataframe thead th {\n",
       "        text-align: right;\n",
       "    }\n",
       "</style>\n",
       "<table border=\"1\" class=\"dataframe\">\n",
       "  <thead>\n",
       "    <tr style=\"text-align: right;\">\n",
       "      <th></th>\n",
       "      <th>id</th>\n",
       "      <th>name</th>\n",
       "      <th>kind</th>\n",
       "    </tr>\n",
       "  </thead>\n",
       "  <tbody>\n",
       "    <tr>\n",
       "      <th>0</th>\n",
       "      <td>Anatomy::UBERON:0000002</td>\n",
       "      <td>uterine cervix</td>\n",
       "      <td>Anatomy</td>\n",
       "    </tr>\n",
       "    <tr>\n",
       "      <th>1</th>\n",
       "      <td>Anatomy::UBERON:0000004</td>\n",
       "      <td>nose</td>\n",
       "      <td>Anatomy</td>\n",
       "    </tr>\n",
       "    <tr>\n",
       "      <th>2</th>\n",
       "      <td>Anatomy::UBERON:0000006</td>\n",
       "      <td>islet of Langerhans</td>\n",
       "      <td>Anatomy</td>\n",
       "    </tr>\n",
       "    <tr>\n",
       "      <th>3</th>\n",
       "      <td>Anatomy::UBERON:0000007</td>\n",
       "      <td>pituitary gland</td>\n",
       "      <td>Anatomy</td>\n",
       "    </tr>\n",
       "    <tr>\n",
       "      <th>4</th>\n",
       "      <td>Anatomy::UBERON:0000010</td>\n",
       "      <td>peripheral nervous system</td>\n",
       "      <td>Anatomy</td>\n",
       "    </tr>\n",
       "  </tbody>\n",
       "</table>\n",
       "</div>"
      ],
      "text/plain": [
       "                        id                       name     kind\n",
       "0  Anatomy::UBERON:0000002             uterine cervix  Anatomy\n",
       "1  Anatomy::UBERON:0000004                       nose  Anatomy\n",
       "2  Anatomy::UBERON:0000006        islet of Langerhans  Anatomy\n",
       "3  Anatomy::UBERON:0000007            pituitary gland  Anatomy\n",
       "4  Anatomy::UBERON:0000010  peripheral nervous system  Anatomy"
      ]
     },
     "execution_count": 4,
     "metadata": {},
     "output_type": "execute_result"
    }
   ],
   "source": [
    "nodes.head()"
   ]
  },
  {
   "cell_type": "code",
   "execution_count": 42,
   "metadata": {},
   "outputs": [
    {
     "data": {
      "text/plain": [
       "{'Anatomy',\n",
       " 'Biological Process',\n",
       " 'Cellular Component',\n",
       " 'Compound',\n",
       " 'Disease',\n",
       " 'Gene',\n",
       " 'Molecular Function',\n",
       " 'Pathway',\n",
       " 'Pharmacologic Class',\n",
       " 'Side Effect',\n",
       " 'Symptom'}"
      ]
     },
     "execution_count": 42,
     "metadata": {},
     "output_type": "execute_result"
    }
   ],
   "source": [
    "set(nodes['kind'])"
   ]
  },
  {
   "cell_type": "code",
   "execution_count": 5,
   "metadata": {
    "collapsed": false
   },
   "outputs": [
    {
     "data": {
      "text/html": [
       "<div>\n",
       "<style scoped>\n",
       "    .dataframe tbody tr th:only-of-type {\n",
       "        vertical-align: middle;\n",
       "    }\n",
       "\n",
       "    .dataframe tbody tr th {\n",
       "        vertical-align: top;\n",
       "    }\n",
       "\n",
       "    .dataframe thead th {\n",
       "        text-align: right;\n",
       "    }\n",
       "</style>\n",
       "<table border=\"1\" class=\"dataframe\">\n",
       "  <thead>\n",
       "    <tr style=\"text-align: right;\">\n",
       "      <th></th>\n",
       "      <th>source</th>\n",
       "      <th>metaedge</th>\n",
       "      <th>target</th>\n",
       "    </tr>\n",
       "  </thead>\n",
       "  <tbody>\n",
       "    <tr>\n",
       "      <th>0</th>\n",
       "      <td>Gene::9021</td>\n",
       "      <td>GpBP</td>\n",
       "      <td>Biological Process::GO:0071357</td>\n",
       "    </tr>\n",
       "    <tr>\n",
       "      <th>1</th>\n",
       "      <td>Gene::51676</td>\n",
       "      <td>GpBP</td>\n",
       "      <td>Biological Process::GO:0098780</td>\n",
       "    </tr>\n",
       "    <tr>\n",
       "      <th>2</th>\n",
       "      <td>Gene::19</td>\n",
       "      <td>GpBP</td>\n",
       "      <td>Biological Process::GO:0055088</td>\n",
       "    </tr>\n",
       "    <tr>\n",
       "      <th>3</th>\n",
       "      <td>Gene::3176</td>\n",
       "      <td>GpBP</td>\n",
       "      <td>Biological Process::GO:0010243</td>\n",
       "    </tr>\n",
       "    <tr>\n",
       "      <th>4</th>\n",
       "      <td>Gene::3039</td>\n",
       "      <td>GpBP</td>\n",
       "      <td>Biological Process::GO:0006898</td>\n",
       "    </tr>\n",
       "  </tbody>\n",
       "</table>\n",
       "</div>"
      ],
      "text/plain": [
       "        source metaedge                          target\n",
       "0   Gene::9021     GpBP  Biological Process::GO:0071357\n",
       "1  Gene::51676     GpBP  Biological Process::GO:0098780\n",
       "2     Gene::19     GpBP  Biological Process::GO:0055088\n",
       "3   Gene::3176     GpBP  Biological Process::GO:0010243\n",
       "4   Gene::3039     GpBP  Biological Process::GO:0006898"
      ]
     },
     "execution_count": 5,
     "metadata": {},
     "output_type": "execute_result"
    }
   ],
   "source": [
    "edges.head()"
   ]
  },
  {
   "cell_type": "markdown",
   "metadata": {
    "collapsed": false
   },
   "source": [
    "# make map to map IDs with actual name and kind"
   ]
  },
  {
   "cell_type": "code",
   "execution_count": 8,
   "metadata": {
    "collapsed": false
   },
   "outputs": [],
   "source": [
    "source_or_target_list_map = nodes['id']"
   ]
  },
  {
   "cell_type": "code",
   "execution_count": 6,
   "metadata": {
    "collapsed": false
   },
   "outputs": [],
   "source": [
    "\"\"\"\" function that makes dictionary from two lists\"\"\"\n",
    "def make_dict(list1, list2):\n",
    "    return dict(zip(list1, list2))"
   ]
  },
  {
   "cell_type": "code",
   "execution_count": 14,
   "metadata": {},
   "outputs": [],
   "source": [
    "dict_name = make_dict(source_or_target_list_map, nodes['name'])"
   ]
  },
  {
   "cell_type": "code",
   "execution_count": 10,
   "metadata": {},
   "outputs": [],
   "source": [
    "dict_kind= make_dict(source_or_target_list_map, nodes['kind'])"
   ]
  },
  {
   "cell_type": "code",
   "execution_count": 12,
   "metadata": {},
   "outputs": [],
   "source": [
    "final_network_map = edges.copy(deep=True)"
   ]
  },
  {
   "cell_type": "code",
   "execution_count": 15,
   "metadata": {},
   "outputs": [],
   "source": [
    "final_network_map['source_name'] = final_network_map['source'].map(dict_name)\n",
    "final_network_map['target_name'] = final_network_map['target'].map(dict_name)\n"
   ]
  },
  {
   "cell_type": "code",
   "execution_count": 16,
   "metadata": {},
   "outputs": [],
   "source": [
    "final_network_map['kind_of_source'] = final_network_map['source'].map(dict_kind)"
   ]
  },
  {
   "cell_type": "code",
   "execution_count": 17,
   "metadata": {},
   "outputs": [],
   "source": [
    "final_network_map['kind_of_target'] = final_network_map['target'].map(dict_kind)"
   ]
  },
  {
   "cell_type": "code",
   "execution_count": 18,
   "metadata": {},
   "outputs": [
    {
     "data": {
      "text/html": [
       "<div>\n",
       "<style scoped>\n",
       "    .dataframe tbody tr th:only-of-type {\n",
       "        vertical-align: middle;\n",
       "    }\n",
       "\n",
       "    .dataframe tbody tr th {\n",
       "        vertical-align: top;\n",
       "    }\n",
       "\n",
       "    .dataframe thead th {\n",
       "        text-align: right;\n",
       "    }\n",
       "</style>\n",
       "<table border=\"1\" class=\"dataframe\">\n",
       "  <thead>\n",
       "    <tr style=\"text-align: right;\">\n",
       "      <th></th>\n",
       "      <th>source</th>\n",
       "      <th>metaedge</th>\n",
       "      <th>target</th>\n",
       "      <th>source_name</th>\n",
       "      <th>target_name</th>\n",
       "      <th>kind_of_source</th>\n",
       "      <th>kind_of_target</th>\n",
       "    </tr>\n",
       "  </thead>\n",
       "  <tbody>\n",
       "    <tr>\n",
       "      <th>0</th>\n",
       "      <td>Gene::9021</td>\n",
       "      <td>GpBP</td>\n",
       "      <td>Biological Process::GO:0071357</td>\n",
       "      <td>SOCS3</td>\n",
       "      <td>cellular response to type I interferon</td>\n",
       "      <td>Gene</td>\n",
       "      <td>Biological Process</td>\n",
       "    </tr>\n",
       "    <tr>\n",
       "      <th>1</th>\n",
       "      <td>Gene::51676</td>\n",
       "      <td>GpBP</td>\n",
       "      <td>Biological Process::GO:0098780</td>\n",
       "      <td>ASB2</td>\n",
       "      <td>response to mitochondrial depolarisation</td>\n",
       "      <td>Gene</td>\n",
       "      <td>Biological Process</td>\n",
       "    </tr>\n",
       "    <tr>\n",
       "      <th>2</th>\n",
       "      <td>Gene::19</td>\n",
       "      <td>GpBP</td>\n",
       "      <td>Biological Process::GO:0055088</td>\n",
       "      <td>ABCA1</td>\n",
       "      <td>lipid homeostasis</td>\n",
       "      <td>Gene</td>\n",
       "      <td>Biological Process</td>\n",
       "    </tr>\n",
       "    <tr>\n",
       "      <th>3</th>\n",
       "      <td>Gene::3176</td>\n",
       "      <td>GpBP</td>\n",
       "      <td>Biological Process::GO:0010243</td>\n",
       "      <td>HNMT</td>\n",
       "      <td>response to organonitrogen compound</td>\n",
       "      <td>Gene</td>\n",
       "      <td>Biological Process</td>\n",
       "    </tr>\n",
       "    <tr>\n",
       "      <th>4</th>\n",
       "      <td>Gene::3039</td>\n",
       "      <td>GpBP</td>\n",
       "      <td>Biological Process::GO:0006898</td>\n",
       "      <td>HBA1</td>\n",
       "      <td>receptor-mediated endocytosis</td>\n",
       "      <td>Gene</td>\n",
       "      <td>Biological Process</td>\n",
       "    </tr>\n",
       "    <tr>\n",
       "      <th>...</th>\n",
       "      <td>...</td>\n",
       "      <td>...</td>\n",
       "      <td>...</td>\n",
       "      <td>...</td>\n",
       "      <td>...</td>\n",
       "      <td>...</td>\n",
       "      <td>...</td>\n",
       "    </tr>\n",
       "    <tr>\n",
       "      <th>2250192</th>\n",
       "      <td>Anatomy::UBERON:0000057</td>\n",
       "      <td>AeG</td>\n",
       "      <td>Gene::65009</td>\n",
       "      <td>urethra</td>\n",
       "      <td>NDRG4</td>\n",
       "      <td>Anatomy</td>\n",
       "      <td>Gene</td>\n",
       "    </tr>\n",
       "    <tr>\n",
       "      <th>2250193</th>\n",
       "      <td>Anatomy::UBERON:0000474</td>\n",
       "      <td>AeG</td>\n",
       "      <td>Gene::80279</td>\n",
       "      <td>female reproductive system</td>\n",
       "      <td>CDK5RAP3</td>\n",
       "      <td>Anatomy</td>\n",
       "      <td>Gene</td>\n",
       "    </tr>\n",
       "    <tr>\n",
       "      <th>2250194</th>\n",
       "      <td>Anatomy::UBERON:0002048</td>\n",
       "      <td>AeG</td>\n",
       "      <td>Gene::1211</td>\n",
       "      <td>lung</td>\n",
       "      <td>CLTA</td>\n",
       "      <td>Anatomy</td>\n",
       "      <td>Gene</td>\n",
       "    </tr>\n",
       "    <tr>\n",
       "      <th>2250195</th>\n",
       "      <td>Anatomy::UBERON:0002048</td>\n",
       "      <td>AeG</td>\n",
       "      <td>Gene::8843</td>\n",
       "      <td>lung</td>\n",
       "      <td>HCAR3</td>\n",
       "      <td>Anatomy</td>\n",
       "      <td>Gene</td>\n",
       "    </tr>\n",
       "    <tr>\n",
       "      <th>2250196</th>\n",
       "      <td>Anatomy::UBERON:0002240</td>\n",
       "      <td>AeG</td>\n",
       "      <td>Gene::2124</td>\n",
       "      <td>spinal cord</td>\n",
       "      <td>EVI2B</td>\n",
       "      <td>Anatomy</td>\n",
       "      <td>Gene</td>\n",
       "    </tr>\n",
       "  </tbody>\n",
       "</table>\n",
       "<p>2250197 rows × 7 columns</p>\n",
       "</div>"
      ],
      "text/plain": [
       "                          source metaedge                          target  \\\n",
       "0                     Gene::9021     GpBP  Biological Process::GO:0071357   \n",
       "1                    Gene::51676     GpBP  Biological Process::GO:0098780   \n",
       "2                       Gene::19     GpBP  Biological Process::GO:0055088   \n",
       "3                     Gene::3176     GpBP  Biological Process::GO:0010243   \n",
       "4                     Gene::3039     GpBP  Biological Process::GO:0006898   \n",
       "...                          ...      ...                             ...   \n",
       "2250192  Anatomy::UBERON:0000057      AeG                     Gene::65009   \n",
       "2250193  Anatomy::UBERON:0000474      AeG                     Gene::80279   \n",
       "2250194  Anatomy::UBERON:0002048      AeG                      Gene::1211   \n",
       "2250195  Anatomy::UBERON:0002048      AeG                      Gene::8843   \n",
       "2250196  Anatomy::UBERON:0002240      AeG                      Gene::2124   \n",
       "\n",
       "                        source_name                               target_name  \\\n",
       "0                             SOCS3    cellular response to type I interferon   \n",
       "1                              ASB2  response to mitochondrial depolarisation   \n",
       "2                             ABCA1                         lipid homeostasis   \n",
       "3                              HNMT       response to organonitrogen compound   \n",
       "4                              HBA1             receptor-mediated endocytosis   \n",
       "...                             ...                                       ...   \n",
       "2250192                     urethra                                     NDRG4   \n",
       "2250193  female reproductive system                                  CDK5RAP3   \n",
       "2250194                        lung                                      CLTA   \n",
       "2250195                        lung                                     HCAR3   \n",
       "2250196                 spinal cord                                     EVI2B   \n",
       "\n",
       "        kind_of_source      kind_of_target  \n",
       "0                 Gene  Biological Process  \n",
       "1                 Gene  Biological Process  \n",
       "2                 Gene  Biological Process  \n",
       "3                 Gene  Biological Process  \n",
       "4                 Gene  Biological Process  \n",
       "...                ...                 ...  \n",
       "2250192        Anatomy                Gene  \n",
       "2250193        Anatomy                Gene  \n",
       "2250194        Anatomy                Gene  \n",
       "2250195        Anatomy                Gene  \n",
       "2250196        Anatomy                Gene  \n",
       "\n",
       "[2250197 rows x 7 columns]"
      ]
     },
     "execution_count": 18,
     "metadata": {},
     "output_type": "execute_result"
    }
   ],
   "source": [
    "final_network_map"
   ]
  },
  {
   "cell_type": "code",
   "execution_count": 19,
   "metadata": {},
   "outputs": [
    {
     "data": {
      "text/plain": [
       "False"
      ]
     },
     "execution_count": 19,
     "metadata": {},
     "output_type": "execute_result"
    }
   ],
   "source": [
    "list(set(final_network_map['kind_of_source'])) == list(set(final_network_map['kind_of_target']))"
   ]
  },
  {
   "cell_type": "code",
   "execution_count": 20,
   "metadata": {},
   "outputs": [],
   "source": [
    "def find_diff(list1,list2):\n",
    "    return (list(set(list1) - set(list2)))"
   ]
  },
  {
   "cell_type": "code",
   "execution_count": 34,
   "metadata": {},
   "outputs": [
    {
     "data": {
      "text/plain": [
       "['Disease', 'Compound', 'Pharmacologic Class', 'Anatomy', 'Gene']"
      ]
     },
     "execution_count": 34,
     "metadata": {},
     "output_type": "execute_result"
    }
   ],
   "source": [
    "list(set(final_network_map['kind_of_source']))"
   ]
  },
  {
   "cell_type": "code",
   "execution_count": 36,
   "metadata": {},
   "outputs": [
    {
     "data": {
      "text/plain": [
       "['Disease',\n",
       " 'Compound',\n",
       " 'Anatomy',\n",
       " 'Molecular Function',\n",
       " 'Pathway',\n",
       " 'Side Effect',\n",
       " 'Cellular Component',\n",
       " 'Biological Process',\n",
       " 'Gene',\n",
       " 'Symptom']"
      ]
     },
     "execution_count": 36,
     "metadata": {},
     "output_type": "execute_result"
    }
   ],
   "source": [
    "list(set(final_network_map['kind_of_target']))"
   ]
  },
  {
   "cell_type": "code",
   "execution_count": 21,
   "metadata": {},
   "outputs": [
    {
     "data": {
      "text/plain": [
       "['Pharmacologic Class']"
      ]
     },
     "execution_count": 21,
     "metadata": {},
     "output_type": "execute_result"
    }
   ],
   "source": [
    "find_diff(list(set(final_network_map['kind_of_source'])), list(set(final_network_map['kind_of_target'])))"
   ]
  },
  {
   "cell_type": "code",
   "execution_count": 22,
   "metadata": {},
   "outputs": [],
   "source": [
    "meta_edge_encoding = pd.read_csv('data/meta_edges_encoding.tsv', sep='\\t', header=0)"
   ]
  },
  {
   "cell_type": "code",
   "execution_count": 26,
   "metadata": {},
   "outputs": [
    {
     "data": {
      "text/plain": [
       "True"
      ]
     },
     "execution_count": 26,
     "metadata": {},
     "output_type": "execute_result"
    }
   ],
   "source": [
    "set(meta_edge_encoding['abbreviation']) == set(final_network_map['metaedge'])"
   ]
  },
  {
   "cell_type": "markdown",
   "metadata": {},
   "source": [
    "## since the meta_edge_ecoding is same as final_network_map metaedges we can encode them"
   ]
  },
  {
   "cell_type": "code",
   "execution_count": 29,
   "metadata": {},
   "outputs": [],
   "source": [
    "met_edge_map = make_dict(meta_edge_encoding['abbreviation'], meta_edge_encoding['metaedge'])"
   ]
  },
  {
   "cell_type": "code",
   "execution_count": 30,
   "metadata": {},
   "outputs": [],
   "source": [
    "final_network_map['metaedge'] = final_network_map['metaedge'].map(met_edge_map)"
   ]
  },
  {
   "cell_type": "code",
   "execution_count": 32,
   "metadata": {},
   "outputs": [],
   "source": [
    "final_network_map.to_csv('data/final_network_map.csv', index=False)"
   ]
  },
  {
   "cell_type": "code",
   "execution_count": 40,
   "metadata": {},
   "outputs": [
    {
     "data": {
      "text/plain": [
       "['Disease - localizes - Anatomy',\n",
       " 'Disease - resembles - Disease',\n",
       " 'Disease - associates - Gene',\n",
       " 'Compound - palliates - Disease',\n",
       " 'Gene - participates - Molecular Function',\n",
       " 'Compound - resembles - Compound',\n",
       " 'Gene - participates - Pathway',\n",
       " 'Compound - upregulates - Gene',\n",
       " 'Pharmacologic Class - includes - Compound',\n",
       " 'Compound - downregulates - Gene',\n",
       " 'Compound - treats - Disease',\n",
       " 'Disease - upregulates - Gene',\n",
       " 'Anatomy - upregulates - Gene',\n",
       " 'Gene - participates - Cellular Component',\n",
       " 'Gene - participates - Biological Process',\n",
       " 'Gene - covaries - Gene',\n",
       " 'Gene - interacts - Gene',\n",
       " 'Disease - presents - Symptom',\n",
       " 'Anatomy - expresses - Gene',\n",
       " 'Compound - binds - Gene',\n",
       " 'Gene > regulates > Gene',\n",
       " 'Anatomy - downregulates - Gene',\n",
       " 'Compound - causes - Side Effect',\n",
       " 'Disease - downregulates - Gene']"
      ]
     },
     "execution_count": 40,
     "metadata": {},
     "output_type": "execute_result"
    }
   ],
   "source": [
    "list(set(final_network_map['metaedge']))"
   ]
  },
  {
   "cell_type": "markdown",
   "metadata": {},
   "source": [
    "# now we can use this csv to make a streamlit app"
   ]
  },
  {
   "cell_type": "code",
   "execution_count": 45,
   "metadata": {},
   "outputs": [
    {
     "data": {
      "text/html": [
       "<div>\n",
       "<style scoped>\n",
       "    .dataframe tbody tr th:only-of-type {\n",
       "        vertical-align: middle;\n",
       "    }\n",
       "\n",
       "    .dataframe tbody tr th {\n",
       "        vertical-align: top;\n",
       "    }\n",
       "\n",
       "    .dataframe thead th {\n",
       "        text-align: right;\n",
       "    }\n",
       "</style>\n",
       "<table border=\"1\" class=\"dataframe\">\n",
       "  <thead>\n",
       "    <tr style=\"text-align: right;\">\n",
       "      <th></th>\n",
       "      <th>source</th>\n",
       "      <th>metaedge</th>\n",
       "      <th>target</th>\n",
       "      <th>source_name</th>\n",
       "      <th>target_name</th>\n",
       "      <th>kind_of_source</th>\n",
       "      <th>kind_of_target</th>\n",
       "    </tr>\n",
       "  </thead>\n",
       "  <tbody>\n",
       "    <tr>\n",
       "      <th>0</th>\n",
       "      <td>Gene::9021</td>\n",
       "      <td>Gene - participates - Biological Process</td>\n",
       "      <td>Biological Process::GO:0071357</td>\n",
       "      <td>SOCS3</td>\n",
       "      <td>cellular response to type I interferon</td>\n",
       "      <td>Gene</td>\n",
       "      <td>Biological Process</td>\n",
       "    </tr>\n",
       "    <tr>\n",
       "      <th>1</th>\n",
       "      <td>Gene::51676</td>\n",
       "      <td>Gene - participates - Biological Process</td>\n",
       "      <td>Biological Process::GO:0098780</td>\n",
       "      <td>ASB2</td>\n",
       "      <td>response to mitochondrial depolarisation</td>\n",
       "      <td>Gene</td>\n",
       "      <td>Biological Process</td>\n",
       "    </tr>\n",
       "    <tr>\n",
       "      <th>2</th>\n",
       "      <td>Gene::19</td>\n",
       "      <td>Gene - participates - Biological Process</td>\n",
       "      <td>Biological Process::GO:0055088</td>\n",
       "      <td>ABCA1</td>\n",
       "      <td>lipid homeostasis</td>\n",
       "      <td>Gene</td>\n",
       "      <td>Biological Process</td>\n",
       "    </tr>\n",
       "    <tr>\n",
       "      <th>3</th>\n",
       "      <td>Gene::3176</td>\n",
       "      <td>Gene - participates - Biological Process</td>\n",
       "      <td>Biological Process::GO:0010243</td>\n",
       "      <td>HNMT</td>\n",
       "      <td>response to organonitrogen compound</td>\n",
       "      <td>Gene</td>\n",
       "      <td>Biological Process</td>\n",
       "    </tr>\n",
       "    <tr>\n",
       "      <th>4</th>\n",
       "      <td>Gene::3039</td>\n",
       "      <td>Gene - participates - Biological Process</td>\n",
       "      <td>Biological Process::GO:0006898</td>\n",
       "      <td>HBA1</td>\n",
       "      <td>receptor-mediated endocytosis</td>\n",
       "      <td>Gene</td>\n",
       "      <td>Biological Process</td>\n",
       "    </tr>\n",
       "    <tr>\n",
       "      <th>...</th>\n",
       "      <td>...</td>\n",
       "      <td>...</td>\n",
       "      <td>...</td>\n",
       "      <td>...</td>\n",
       "      <td>...</td>\n",
       "      <td>...</td>\n",
       "      <td>...</td>\n",
       "    </tr>\n",
       "    <tr>\n",
       "      <th>2250192</th>\n",
       "      <td>Anatomy::UBERON:0000057</td>\n",
       "      <td>Anatomy - expresses - Gene</td>\n",
       "      <td>Gene::65009</td>\n",
       "      <td>urethra</td>\n",
       "      <td>NDRG4</td>\n",
       "      <td>Anatomy</td>\n",
       "      <td>Gene</td>\n",
       "    </tr>\n",
       "    <tr>\n",
       "      <th>2250193</th>\n",
       "      <td>Anatomy::UBERON:0000474</td>\n",
       "      <td>Anatomy - expresses - Gene</td>\n",
       "      <td>Gene::80279</td>\n",
       "      <td>female reproductive system</td>\n",
       "      <td>CDK5RAP3</td>\n",
       "      <td>Anatomy</td>\n",
       "      <td>Gene</td>\n",
       "    </tr>\n",
       "    <tr>\n",
       "      <th>2250194</th>\n",
       "      <td>Anatomy::UBERON:0002048</td>\n",
       "      <td>Anatomy - expresses - Gene</td>\n",
       "      <td>Gene::1211</td>\n",
       "      <td>lung</td>\n",
       "      <td>CLTA</td>\n",
       "      <td>Anatomy</td>\n",
       "      <td>Gene</td>\n",
       "    </tr>\n",
       "    <tr>\n",
       "      <th>2250195</th>\n",
       "      <td>Anatomy::UBERON:0002048</td>\n",
       "      <td>Anatomy - expresses - Gene</td>\n",
       "      <td>Gene::8843</td>\n",
       "      <td>lung</td>\n",
       "      <td>HCAR3</td>\n",
       "      <td>Anatomy</td>\n",
       "      <td>Gene</td>\n",
       "    </tr>\n",
       "    <tr>\n",
       "      <th>2250196</th>\n",
       "      <td>Anatomy::UBERON:0002240</td>\n",
       "      <td>Anatomy - expresses - Gene</td>\n",
       "      <td>Gene::2124</td>\n",
       "      <td>spinal cord</td>\n",
       "      <td>EVI2B</td>\n",
       "      <td>Anatomy</td>\n",
       "      <td>Gene</td>\n",
       "    </tr>\n",
       "  </tbody>\n",
       "</table>\n",
       "<p>2250197 rows × 7 columns</p>\n",
       "</div>"
      ],
      "text/plain": [
       "                          source                                  metaedge  \\\n",
       "0                     Gene::9021  Gene - participates - Biological Process   \n",
       "1                    Gene::51676  Gene - participates - Biological Process   \n",
       "2                       Gene::19  Gene - participates - Biological Process   \n",
       "3                     Gene::3176  Gene - participates - Biological Process   \n",
       "4                     Gene::3039  Gene - participates - Biological Process   \n",
       "...                          ...                                       ...   \n",
       "2250192  Anatomy::UBERON:0000057                Anatomy - expresses - Gene   \n",
       "2250193  Anatomy::UBERON:0000474                Anatomy - expresses - Gene   \n",
       "2250194  Anatomy::UBERON:0002048                Anatomy - expresses - Gene   \n",
       "2250195  Anatomy::UBERON:0002048                Anatomy - expresses - Gene   \n",
       "2250196  Anatomy::UBERON:0002240                Anatomy - expresses - Gene   \n",
       "\n",
       "                                 target                 source_name  \\\n",
       "0        Biological Process::GO:0071357                       SOCS3   \n",
       "1        Biological Process::GO:0098780                        ASB2   \n",
       "2        Biological Process::GO:0055088                       ABCA1   \n",
       "3        Biological Process::GO:0010243                        HNMT   \n",
       "4        Biological Process::GO:0006898                        HBA1   \n",
       "...                                 ...                         ...   \n",
       "2250192                     Gene::65009                     urethra   \n",
       "2250193                     Gene::80279  female reproductive system   \n",
       "2250194                      Gene::1211                        lung   \n",
       "2250195                      Gene::8843                        lung   \n",
       "2250196                      Gene::2124                 spinal cord   \n",
       "\n",
       "                                      target_name kind_of_source  \\\n",
       "0          cellular response to type I interferon           Gene   \n",
       "1        response to mitochondrial depolarisation           Gene   \n",
       "2                               lipid homeostasis           Gene   \n",
       "3             response to organonitrogen compound           Gene   \n",
       "4                   receptor-mediated endocytosis           Gene   \n",
       "...                                           ...            ...   \n",
       "2250192                                     NDRG4        Anatomy   \n",
       "2250193                                  CDK5RAP3        Anatomy   \n",
       "2250194                                      CLTA        Anatomy   \n",
       "2250195                                     HCAR3        Anatomy   \n",
       "2250196                                     EVI2B        Anatomy   \n",
       "\n",
       "             kind_of_target  \n",
       "0        Biological Process  \n",
       "1        Biological Process  \n",
       "2        Biological Process  \n",
       "3        Biological Process  \n",
       "4        Biological Process  \n",
       "...                     ...  \n",
       "2250192                Gene  \n",
       "2250193                Gene  \n",
       "2250194                Gene  \n",
       "2250195                Gene  \n",
       "2250196                Gene  \n",
       "\n",
       "[2250197 rows x 7 columns]"
      ]
     },
     "execution_count": 45,
     "metadata": {},
     "output_type": "execute_result"
    }
   ],
   "source": [
    "final_network_map"
   ]
  },
  {
   "cell_type": "code",
   "execution_count": 46,
   "metadata": {},
   "outputs": [
    {
     "data": {
      "text/plain": [
       "['Disease', 'Compound', 'Pharmacologic Class', 'Anatomy', 'Gene']"
      ]
     },
     "execution_count": 46,
     "metadata": {},
     "output_type": "execute_result"
    }
   ],
   "source": [
    "list(set(final_network_map['kind_of_source']))"
   ]
  },
  {
   "cell_type": "code",
   "execution_count": 47,
   "metadata": {},
   "outputs": [
    {
     "data": {
      "text/plain": [
       "['Disease',\n",
       " 'Compound',\n",
       " 'Anatomy',\n",
       " 'Molecular Function',\n",
       " 'Pathway',\n",
       " 'Side Effect',\n",
       " 'Cellular Component',\n",
       " 'Biological Process',\n",
       " 'Gene',\n",
       " 'Symptom']"
      ]
     },
     "execution_count": 47,
     "metadata": {},
     "output_type": "execute_result"
    }
   ],
   "source": [
    "list(set(final_network_map['kind_of_target']))"
   ]
  },
  {
   "cell_type": "code",
   "execution_count": 50,
   "metadata": {},
   "outputs": [],
   "source": [
    "final_network_map.to_csv(\"data/final_network_map\" + '.gzip', \\\n",
    "                                           index=False, \\\n",
    "                                           compression='gzip')"
   ]
  },
  {
   "cell_type": "code",
   "execution_count": null,
   "metadata": {},
   "outputs": [],
   "source": [
    "import os"
   ]
  },
  {
   "cell_type": "code",
   "execution_count": 51,
   "metadata": {},
   "outputs": [
    {
     "name": "stdout",
     "output_type": "stream",
     "text": [
      "3.5 s ± 10.4 ms per loop (mean ± std. dev. of 5 runs, 5 loops each)\n"
     ]
    }
   ],
   "source": [
    "final_network_map_read = !timeit -n5 -r5 -o pd.read_csv(\"data/final_network_map\" + '.gzip', \\\n",
    "                                             compression='gzip')\n"
   ]
  },
  {
   "cell_type": "code",
   "execution_count": 52,
   "metadata": {},
   "outputs": [
    {
     "data": {
      "text/plain": [
       "<TimeitResult : 3.5 s ± 10.4 ms per loop (mean ± std. dev. of 5 runs, 5 loops each)>"
      ]
     },
     "execution_count": 52,
     "metadata": {},
     "output_type": "execute_result"
    }
   ],
   "source": [
    "final_network_map_read"
   ]
  },
  {
   "cell_type": "code",
   "execution_count": null,
   "metadata": {},
   "outputs": [],
   "source": []
  }
 ],
 "metadata": {
  "kernelspec": {
   "display_name": "Python 3.10.4 ('work2')",
   "language": "python",
   "name": "python3"
  },
  "language_info": {
   "codemirror_mode": {
    "name": "ipython",
    "version": 3
   },
   "file_extension": ".py",
   "mimetype": "text/x-python",
   "name": "python",
   "nbconvert_exporter": "python",
   "pygments_lexer": "ipython3",
   "version": "3.10.4"
  },
  "vscode": {
   "interpreter": {
    "hash": "293f9465daa04e9cd88c204d071f706c94f133ee5c0f56f4b59ded80f20adc1d"
   }
  }
 },
 "nbformat": 4,
 "nbformat_minor": 0
}
